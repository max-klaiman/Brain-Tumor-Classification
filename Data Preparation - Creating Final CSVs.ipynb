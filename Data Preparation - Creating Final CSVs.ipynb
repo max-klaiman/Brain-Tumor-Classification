{
 "cells": [
  {
   "cell_type": "code",
   "execution_count": 1,
   "id": "7356c092",
   "metadata": {},
   "outputs": [],
   "source": [
    "import pandas as pd\n",
    "import numpy as np\n",
    "import datetime\n",
    "import pandas as pd\n",
    "import numpy as np\n",
    "from datetime import *\n",
    "import matplotlib.pyplot as plt\n",
    "import numpy as np\n",
    "import tensorflow as tf\n",
    "from tensorflow.keras import layers\n",
    "import pandas as pd\n",
    "import seaborn as sns\n",
    "import matplotlib.pyplot as plt\n",
    "from sklearn.datasets import make_classification\n",
    "from sklearn.linear_model import LogisticRegression\n",
    "from sklearn.model_selection import train_test_split,GridSearchCV\n",
    "from sklearn.metrics import roc_curve, roc_auc_score, classification_report \n",
    "from sklearn.metrics import confusion_matrix, accuracy_score, precision_recall_curve\n",
    "from sklearn import svm, metrics\n",
    "from sklearn.pipeline import make_pipeline\n",
    "from sklearn.preprocessing import StandardScaler, MinMaxScaler\n",
    "from sklearn import preprocessing\n",
    "from sklearn.metrics import mean_squared_error\n",
    "from tensorflow.keras import datasets, layers, models\n",
    "from tensorflow import keras\n",
    "from tensorflow.keras.models import Sequential\n",
    "from tensorflow.keras.layers import LSTM, Dense, Dropout, Masking, Embedding\n",
    "from tensorflow.keras.models import Sequential\n",
    "from tensorflow.keras.layers import Dense, LSTM, Dropout, GRU, Bidirectional\n",
    "from tensorflow.keras.optimizers import SGD\n",
    "from tensorflow.random import set_seed\n",
    "import nibabel as nib\n",
    "import numpy as np\n",
    "import matplotlib.pyplot as plt\n",
    "import pyarrow as py\n",
    "from pyarrow import csv\n",
    "set_seed(455)\n",
    "np.random.seed(455)"
   ]
  },
  {
   "cell_type": "code",
   "execution_count": 2,
   "id": "0f24ed94",
   "metadata": {
    "scrolled": true
   },
   "outputs": [
    {
     "name": "stderr",
     "output_type": "stream",
     "text": [
      "/Users/Max1/opt/anaconda3/lib/python3.8/site-packages/IPython/core/interactiveshell.py:3437: DtypeWarning: Columns (0,1,2,3,4,5) have mixed types.Specify dtype option on import or set low_memory=False.\n",
      "  exec(code_obj, self.user_global_ns, self.user_ns)\n"
     ]
    },
    {
     "name": "stdout",
     "output_type": "stream",
     "text": [
      "1/7\n"
     ]
    },
    {
     "name": "stderr",
     "output_type": "stream",
     "text": [
      "/Users/Max1/opt/anaconda3/lib/python3.8/site-packages/IPython/core/interactiveshell.py:3437: DtypeWarning: Columns (0,1,2,3,4,5,6,7,8,9) have mixed types.Specify dtype option on import or set low_memory=False.\n",
      "  exec(code_obj, self.user_global_ns, self.user_ns)\n"
     ]
    },
    {
     "name": "stdout",
     "output_type": "stream",
     "text": [
      "2/7\n"
     ]
    },
    {
     "name": "stderr",
     "output_type": "stream",
     "text": [
      "/Users/Max1/opt/anaconda3/lib/python3.8/site-packages/IPython/core/interactiveshell.py:3437: DtypeWarning: Columns (0,1,2,3,4,5,6,7,8,9,10) have mixed types.Specify dtype option on import or set low_memory=False.\n",
      "  exec(code_obj, self.user_global_ns, self.user_ns)\n"
     ]
    },
    {
     "name": "stdout",
     "output_type": "stream",
     "text": [
      "3/7\n",
      "4/7\n",
      "5/7\n",
      "6/7\n",
      "7/7\n"
     ]
    }
   ],
   "source": [
    "### importing flair dbs: \n",
    "p61_65flair = pd.read_csv('/Users/Max1/Desktop/MSDS-498 A.2. and Prep/CSVs 2/Patients 61 to 65 - flair.csv')\n",
    "print('1/7')\n",
    "p1_10flair = pd.read_csv('/Users/Max1/Desktop/MSDS-498 A.2. and Prep/CSVs 2/Patients 1 to 10 - flair.csv')\n",
    "print('2/7')\n",
    "p11_20flair = pd.read_csv('/Users/Max1/Desktop/MSDS-498 A.2. and Prep/CSVs 2/Patients 11 to 20 - flair.csv')\n",
    "print('3/7')\n",
    "p21_30flair = pd.read_csv('/Users/Max1/Desktop/MSDS-498 A.2. and Prep/CSVs 2/Patients 21 to 30 - flair.csv')\n",
    "print('4/7')\n",
    "p31_40flair = pd.read_csv('/Users/Max1/Desktop/MSDS-498 A.2. and Prep/CSVs 2/Patients 31 to 40 - flair.csv')\n",
    "print('5/7')\n",
    "p41_50flair = pd.read_csv('/Users/Max1/Desktop/MSDS-498 A.2. and Prep/CSVs 2/Patients 41 to 50 - flair.csv')\n",
    "print('6/7')\n",
    "p51_60flair = pd.read_csv('/Users/Max1/Desktop/MSDS-498 A.2. and Prep/CSVs 2/Patients 51 to 60 - flair.csv')\n",
    "print('7/7')"
   ]
  },
  {
   "cell_type": "code",
   "execution_count": 3,
   "id": "0a6aac1b",
   "metadata": {},
   "outputs": [],
   "source": [
    "p61_65flair = p61_65flair.drop(2).reset_index()"
   ]
  },
  {
   "cell_type": "code",
   "execution_count": 4,
   "id": "8aaeabc1",
   "metadata": {},
   "outputs": [
    {
     "data": {
      "text/html": [
       "<div>\n",
       "<style scoped>\n",
       "    .dataframe tbody tr th:only-of-type {\n",
       "        vertical-align: middle;\n",
       "    }\n",
       "\n",
       "    .dataframe tbody tr th {\n",
       "        vertical-align: top;\n",
       "    }\n",
       "\n",
       "    .dataframe thead th {\n",
       "        text-align: right;\n",
       "    }\n",
       "</style>\n",
       "<table border=\"1\" class=\"dataframe\">\n",
       "  <thead>\n",
       "    <tr style=\"text-align: right;\">\n",
       "      <th></th>\n",
       "      <th>index</th>\n",
       "      <th>Unnamed: 0</th>\n",
       "      <th>0</th>\n",
       "      <th>1</th>\n",
       "      <th>2</th>\n",
       "      <th>3</th>\n",
       "      <th>4</th>\n",
       "    </tr>\n",
       "  </thead>\n",
       "  <tbody>\n",
       "    <tr>\n",
       "      <th>0</th>\n",
       "      <td>0</td>\n",
       "      <td>IDs</td>\n",
       "      <td>61</td>\n",
       "      <td>62</td>\n",
       "      <td>63</td>\n",
       "      <td>64</td>\n",
       "      <td>65</td>\n",
       "    </tr>\n",
       "    <tr>\n",
       "      <th>1</th>\n",
       "      <td>1</td>\n",
       "      <td>Diagnosis</td>\n",
       "      <td>Grade 2 Astrocytoma</td>\n",
       "      <td>Grade 3 Astrocytoma</td>\n",
       "      <td>Test</td>\n",
       "      <td>Grade 2 Astrocytoma</td>\n",
       "      <td>Grade 3 Oligo</td>\n",
       "    </tr>\n",
       "    <tr>\n",
       "      <th>2</th>\n",
       "      <td>3</td>\n",
       "      <td>0</td>\n",
       "      <td>0.0</td>\n",
       "      <td>0.0</td>\n",
       "      <td>0.0</td>\n",
       "      <td>0.0</td>\n",
       "      <td>0.0</td>\n",
       "    </tr>\n",
       "    <tr>\n",
       "      <th>3</th>\n",
       "      <td>4</td>\n",
       "      <td>1</td>\n",
       "      <td>0.0</td>\n",
       "      <td>0.0</td>\n",
       "      <td>0.0</td>\n",
       "      <td>0.0</td>\n",
       "      <td>0.0</td>\n",
       "    </tr>\n",
       "    <tr>\n",
       "      <th>4</th>\n",
       "      <td>5</td>\n",
       "      <td>2</td>\n",
       "      <td>0.0</td>\n",
       "      <td>0.0</td>\n",
       "      <td>0.0</td>\n",
       "      <td>0.0</td>\n",
       "      <td>0.0</td>\n",
       "    </tr>\n",
       "    <tr>\n",
       "      <th>...</th>\n",
       "      <td>...</td>\n",
       "      <td>...</td>\n",
       "      <td>...</td>\n",
       "      <td>...</td>\n",
       "      <td>...</td>\n",
       "      <td>...</td>\n",
       "      <td>...</td>\n",
       "    </tr>\n",
       "    <tr>\n",
       "      <th>8927997</th>\n",
       "      <td>8927998</td>\n",
       "      <td>8927995</td>\n",
       "      <td>0.0</td>\n",
       "      <td>0.0</td>\n",
       "      <td>0.0</td>\n",
       "      <td>0.0</td>\n",
       "      <td>0.0</td>\n",
       "    </tr>\n",
       "    <tr>\n",
       "      <th>8927998</th>\n",
       "      <td>8927999</td>\n",
       "      <td>8927996</td>\n",
       "      <td>0.0</td>\n",
       "      <td>0.0</td>\n",
       "      <td>0.0</td>\n",
       "      <td>0.0</td>\n",
       "      <td>0.0</td>\n",
       "    </tr>\n",
       "    <tr>\n",
       "      <th>8927999</th>\n",
       "      <td>8928000</td>\n",
       "      <td>8927997</td>\n",
       "      <td>0.0</td>\n",
       "      <td>0.0</td>\n",
       "      <td>0.0</td>\n",
       "      <td>0.0</td>\n",
       "      <td>0.0</td>\n",
       "    </tr>\n",
       "    <tr>\n",
       "      <th>8928000</th>\n",
       "      <td>8928001</td>\n",
       "      <td>8927998</td>\n",
       "      <td>0.0</td>\n",
       "      <td>0.0</td>\n",
       "      <td>0.0</td>\n",
       "      <td>0.0</td>\n",
       "      <td>0.0</td>\n",
       "    </tr>\n",
       "    <tr>\n",
       "      <th>8928001</th>\n",
       "      <td>8928002</td>\n",
       "      <td>8927999</td>\n",
       "      <td>0.0</td>\n",
       "      <td>0.0</td>\n",
       "      <td>0.0</td>\n",
       "      <td>0.0</td>\n",
       "      <td>0.0</td>\n",
       "    </tr>\n",
       "  </tbody>\n",
       "</table>\n",
       "<p>8928002 rows × 7 columns</p>\n",
       "</div>"
      ],
      "text/plain": [
       "           index Unnamed: 0                    0                    1     2  \\\n",
       "0              0        IDs                   61                   62    63   \n",
       "1              1  Diagnosis  Grade 2 Astrocytoma  Grade 3 Astrocytoma  Test   \n",
       "2              3          0                  0.0                  0.0   0.0   \n",
       "3              4          1                  0.0                  0.0   0.0   \n",
       "4              5          2                  0.0                  0.0   0.0   \n",
       "...          ...        ...                  ...                  ...   ...   \n",
       "8927997  8927998    8927995                  0.0                  0.0   0.0   \n",
       "8927998  8927999    8927996                  0.0                  0.0   0.0   \n",
       "8927999  8928000    8927997                  0.0                  0.0   0.0   \n",
       "8928000  8928001    8927998                  0.0                  0.0   0.0   \n",
       "8928001  8928002    8927999                  0.0                  0.0   0.0   \n",
       "\n",
       "                           3              4  \n",
       "0                         64             65  \n",
       "1        Grade 2 Astrocytoma  Grade 3 Oligo  \n",
       "2                        0.0            0.0  \n",
       "3                        0.0            0.0  \n",
       "4                        0.0            0.0  \n",
       "...                      ...            ...  \n",
       "8927997                  0.0            0.0  \n",
       "8927998                  0.0            0.0  \n",
       "8927999                  0.0            0.0  \n",
       "8928000                  0.0            0.0  \n",
       "8928001                  0.0            0.0  \n",
       "\n",
       "[8928002 rows x 7 columns]"
      ]
     },
     "execution_count": 4,
     "metadata": {},
     "output_type": "execute_result"
    }
   ],
   "source": [
    "p61_65flair"
   ]
  },
  {
   "cell_type": "code",
   "execution_count": 5,
   "id": "f5be81f2",
   "metadata": {},
   "outputs": [],
   "source": [
    "flair_df = pd.concat([p1_10flair,p11_20flair,p21_30flair, p31_40flair, p41_50flair, p51_60flair, p61_65flair], axis = 1)"
   ]
  },
  {
   "cell_type": "code",
   "execution_count": 21,
   "id": "b24879a7",
   "metadata": {},
   "outputs": [],
   "source": [
    "flair_df = flair_df.drop(flair_df.columns[[10,21,32,43,54,65,66]], axis = 1)"
   ]
  },
  {
   "cell_type": "code",
   "execution_count": 23,
   "id": "5b722e23",
   "metadata": {},
   "outputs": [],
   "source": [
    "flair_df.to_csv('Final Flair Dataframe.csv')"
   ]
  },
  {
   "cell_type": "code",
   "execution_count": 2,
   "id": "559161aa",
   "metadata": {},
   "outputs": [
    {
     "name": "stderr",
     "output_type": "stream",
     "text": [
      "/Users/Max1/opt/anaconda3/lib/python3.8/site-packages/IPython/core/interactiveshell.py:3437: DtypeWarning: Columns (0,1,2,3,4,5) have mixed types.Specify dtype option on import or set low_memory=False.\n",
      "  exec(code_obj, self.user_global_ns, self.user_ns)\n"
     ]
    },
    {
     "name": "stdout",
     "output_type": "stream",
     "text": [
      "1/7\n"
     ]
    },
    {
     "name": "stderr",
     "output_type": "stream",
     "text": [
      "/Users/Max1/opt/anaconda3/lib/python3.8/site-packages/IPython/core/interactiveshell.py:3437: DtypeWarning: Columns (0,1,2,3,4,5,6,7,8,9) have mixed types.Specify dtype option on import or set low_memory=False.\n",
      "  exec(code_obj, self.user_global_ns, self.user_ns)\n"
     ]
    },
    {
     "name": "stdout",
     "output_type": "stream",
     "text": [
      "2/7\n"
     ]
    },
    {
     "name": "stderr",
     "output_type": "stream",
     "text": [
      "/Users/Max1/opt/anaconda3/lib/python3.8/site-packages/IPython/core/interactiveshell.py:3437: DtypeWarning: Columns (0,1,2,3,4,5,6,7,8,9,10) have mixed types.Specify dtype option on import or set low_memory=False.\n",
      "  exec(code_obj, self.user_global_ns, self.user_ns)\n"
     ]
    },
    {
     "name": "stdout",
     "output_type": "stream",
     "text": [
      "3/7\n",
      "4/7\n",
      "5/7\n",
      "6/7\n",
      "7/7\n"
     ]
    }
   ],
   "source": [
    "g = pd.read_csv('/Users/Max1/Desktop/MSDS-498 A.2. and Prep/CSVs 2/Patients 61 to 65 - t1.csv')\n",
    "print('1/7')\n",
    "a = pd.read_csv('/Users/Max1/Desktop/MSDS-498 A.2. and Prep/CSVs 2/Patients 1 to 10 - t1.csv')\n",
    "print('2/7')\n",
    "b = pd.read_csv('/Users/Max1/Desktop/MSDS-498 A.2. and Prep/CSVs 2/Patients 11 to 20 - t1.csv')\n",
    "print('3/7')\n",
    "c = pd.read_csv('/Users/Max1/Desktop/MSDS-498 A.2. and Prep/CSVs 2/Patients 21 to 30 - t1.csv')\n",
    "print('4/7')\n",
    "d = pd.read_csv('/Users/Max1/Desktop/MSDS-498 A.2. and Prep/CSVs 2/Patients 31 to 40 - t1.csv')\n",
    "print('5/7')\n",
    "e = pd.read_csv('/Users/Max1/Desktop/MSDS-498 A.2. and Prep/CSVs 2/Patients 41 to 50 - t1.csv')\n",
    "print('6/7')\n",
    "f = pd.read_csv('/Users/Max1/Desktop/MSDS-498 A.2. and Prep/CSVs 2/Patients 51 to 60 - t1.csv')\n",
    "print('7/7')"
   ]
  },
  {
   "cell_type": "code",
   "execution_count": 4,
   "id": "525f8ab5",
   "metadata": {},
   "outputs": [],
   "source": [
    "t1df = pd.concat([a,b,c,d,e,f,g], axis = 1)"
   ]
  },
  {
   "cell_type": "code",
   "execution_count": 14,
   "id": "8f4ee006",
   "metadata": {},
   "outputs": [],
   "source": [
    "t1df= t1df.drop(t1df.columns[[10,21,32,43,54,65]], axis = 1)"
   ]
  },
  {
   "cell_type": "code",
   "execution_count": 15,
   "id": "0508d418",
   "metadata": {},
   "outputs": [
    {
     "data": {
      "text/html": [
       "<div>\n",
       "<style scoped>\n",
       "    .dataframe tbody tr th:only-of-type {\n",
       "        vertical-align: middle;\n",
       "    }\n",
       "\n",
       "    .dataframe tbody tr th {\n",
       "        vertical-align: top;\n",
       "    }\n",
       "\n",
       "    .dataframe thead th {\n",
       "        text-align: right;\n",
       "    }\n",
       "</style>\n",
       "<table border=\"1\" class=\"dataframe\">\n",
       "  <thead>\n",
       "    <tr style=\"text-align: right;\">\n",
       "      <th></th>\n",
       "      <th>0</th>\n",
       "      <th>1</th>\n",
       "      <th>2</th>\n",
       "      <th>3</th>\n",
       "      <th>4</th>\n",
       "      <th>5</th>\n",
       "      <th>6</th>\n",
       "      <th>7</th>\n",
       "      <th>8</th>\n",
       "      <th>0</th>\n",
       "      <th>...</th>\n",
       "      <th>5</th>\n",
       "      <th>6</th>\n",
       "      <th>7</th>\n",
       "      <th>8</th>\n",
       "      <th>9</th>\n",
       "      <th>0</th>\n",
       "      <th>1</th>\n",
       "      <th>2</th>\n",
       "      <th>3</th>\n",
       "      <th>4</th>\n",
       "    </tr>\n",
       "  </thead>\n",
       "  <tbody>\n",
       "    <tr>\n",
       "      <th>0</th>\n",
       "      <td>1</td>\n",
       "      <td>2</td>\n",
       "      <td>3</td>\n",
       "      <td>4</td>\n",
       "      <td>5</td>\n",
       "      <td>6</td>\n",
       "      <td>7</td>\n",
       "      <td>8</td>\n",
       "      <td>9</td>\n",
       "      <td>11</td>\n",
       "      <td>...</td>\n",
       "      <td>56</td>\n",
       "      <td>57</td>\n",
       "      <td>58</td>\n",
       "      <td>59</td>\n",
       "      <td>60</td>\n",
       "      <td>61</td>\n",
       "      <td>62</td>\n",
       "      <td>63</td>\n",
       "      <td>64</td>\n",
       "      <td>65</td>\n",
       "    </tr>\n",
       "    <tr>\n",
       "      <th>1</th>\n",
       "      <td>Grade 2 Astro</td>\n",
       "      <td>GBM</td>\n",
       "      <td>GBM</td>\n",
       "      <td>GBM</td>\n",
       "      <td>GBM</td>\n",
       "      <td>GBM</td>\n",
       "      <td>Grade Unk Oligo</td>\n",
       "      <td>GBM</td>\n",
       "      <td>GBM</td>\n",
       "      <td>Grade Unk Oligo</td>\n",
       "      <td>...</td>\n",
       "      <td>Grade 2 Oligo</td>\n",
       "      <td>GBM</td>\n",
       "      <td>Grade 2 Astrocytoma</td>\n",
       "      <td>Grade 3 Astrocytoma</td>\n",
       "      <td>Grade 2 Astrocytoma</td>\n",
       "      <td>Grade 2 Astrocytoma</td>\n",
       "      <td>Grade 3 Astrocytoma</td>\n",
       "      <td>Test</td>\n",
       "      <td>Grade 2 Astrocytoma</td>\n",
       "      <td>Grade 3 Oligo</td>\n",
       "    </tr>\n",
       "    <tr>\n",
       "      <th>2</th>\n",
       "      <td>0.0</td>\n",
       "      <td>0.0</td>\n",
       "      <td>0.0</td>\n",
       "      <td>0.0</td>\n",
       "      <td>0.0</td>\n",
       "      <td>0.0</td>\n",
       "      <td>0.0</td>\n",
       "      <td>0.0</td>\n",
       "      <td>0.0</td>\n",
       "      <td>0.0</td>\n",
       "      <td>...</td>\n",
       "      <td>0.0</td>\n",
       "      <td>0.0</td>\n",
       "      <td>0.0</td>\n",
       "      <td>0.0</td>\n",
       "      <td>0.0</td>\n",
       "      <td>0.0</td>\n",
       "      <td>0.0</td>\n",
       "      <td>0.0</td>\n",
       "      <td>0.0</td>\n",
       "      <td>0.0</td>\n",
       "    </tr>\n",
       "    <tr>\n",
       "      <th>3</th>\n",
       "      <td>0.0</td>\n",
       "      <td>0.0</td>\n",
       "      <td>0.0</td>\n",
       "      <td>0.0</td>\n",
       "      <td>0.0</td>\n",
       "      <td>0.0</td>\n",
       "      <td>0.0</td>\n",
       "      <td>0.0</td>\n",
       "      <td>0.0</td>\n",
       "      <td>0.0</td>\n",
       "      <td>...</td>\n",
       "      <td>0.0</td>\n",
       "      <td>0.0</td>\n",
       "      <td>0.0</td>\n",
       "      <td>0.0</td>\n",
       "      <td>0.0</td>\n",
       "      <td>0.0</td>\n",
       "      <td>0.0</td>\n",
       "      <td>0.0</td>\n",
       "      <td>0.0</td>\n",
       "      <td>0.0</td>\n",
       "    </tr>\n",
       "    <tr>\n",
       "      <th>4</th>\n",
       "      <td>0.0</td>\n",
       "      <td>0.0</td>\n",
       "      <td>0.0</td>\n",
       "      <td>0.0</td>\n",
       "      <td>0.0</td>\n",
       "      <td>0.0</td>\n",
       "      <td>0.0</td>\n",
       "      <td>0.0</td>\n",
       "      <td>0.0</td>\n",
       "      <td>0.0</td>\n",
       "      <td>...</td>\n",
       "      <td>0.0</td>\n",
       "      <td>0.0</td>\n",
       "      <td>0.0</td>\n",
       "      <td>0.0</td>\n",
       "      <td>0.0</td>\n",
       "      <td>0.0</td>\n",
       "      <td>0.0</td>\n",
       "      <td>0.0</td>\n",
       "      <td>0.0</td>\n",
       "      <td>0.0</td>\n",
       "    </tr>\n",
       "    <tr>\n",
       "      <th>...</th>\n",
       "      <td>...</td>\n",
       "      <td>...</td>\n",
       "      <td>...</td>\n",
       "      <td>...</td>\n",
       "      <td>...</td>\n",
       "      <td>...</td>\n",
       "      <td>...</td>\n",
       "      <td>...</td>\n",
       "      <td>...</td>\n",
       "      <td>...</td>\n",
       "      <td>...</td>\n",
       "      <td>...</td>\n",
       "      <td>...</td>\n",
       "      <td>...</td>\n",
       "      <td>...</td>\n",
       "      <td>...</td>\n",
       "      <td>...</td>\n",
       "      <td>...</td>\n",
       "      <td>...</td>\n",
       "      <td>...</td>\n",
       "      <td>...</td>\n",
       "    </tr>\n",
       "    <tr>\n",
       "      <th>8927997</th>\n",
       "      <td>0.0</td>\n",
       "      <td>0.0</td>\n",
       "      <td>0.0</td>\n",
       "      <td>0.0</td>\n",
       "      <td>0.0</td>\n",
       "      <td>0.0</td>\n",
       "      <td>0.0</td>\n",
       "      <td>0.0</td>\n",
       "      <td>0.0</td>\n",
       "      <td>0.0</td>\n",
       "      <td>...</td>\n",
       "      <td>0.0</td>\n",
       "      <td>0.0</td>\n",
       "      <td>0.0</td>\n",
       "      <td>0.0</td>\n",
       "      <td>0.0</td>\n",
       "      <td>0.0</td>\n",
       "      <td>0.0</td>\n",
       "      <td>0.0</td>\n",
       "      <td>0.0</td>\n",
       "      <td>0.0</td>\n",
       "    </tr>\n",
       "    <tr>\n",
       "      <th>8927998</th>\n",
       "      <td>0.0</td>\n",
       "      <td>0.0</td>\n",
       "      <td>0.0</td>\n",
       "      <td>0.0</td>\n",
       "      <td>0.0</td>\n",
       "      <td>0.0</td>\n",
       "      <td>0.0</td>\n",
       "      <td>0.0</td>\n",
       "      <td>0.0</td>\n",
       "      <td>0.0</td>\n",
       "      <td>...</td>\n",
       "      <td>0.0</td>\n",
       "      <td>0.0</td>\n",
       "      <td>0.0</td>\n",
       "      <td>0.0</td>\n",
       "      <td>0.0</td>\n",
       "      <td>0.0</td>\n",
       "      <td>0.0</td>\n",
       "      <td>0.0</td>\n",
       "      <td>0.0</td>\n",
       "      <td>0.0</td>\n",
       "    </tr>\n",
       "    <tr>\n",
       "      <th>8927999</th>\n",
       "      <td>0.0</td>\n",
       "      <td>0.0</td>\n",
       "      <td>0.0</td>\n",
       "      <td>0.0</td>\n",
       "      <td>0.0</td>\n",
       "      <td>0.0</td>\n",
       "      <td>0.0</td>\n",
       "      <td>0.0</td>\n",
       "      <td>0.0</td>\n",
       "      <td>0.0</td>\n",
       "      <td>...</td>\n",
       "      <td>0.0</td>\n",
       "      <td>0.0</td>\n",
       "      <td>0.0</td>\n",
       "      <td>0.0</td>\n",
       "      <td>0.0</td>\n",
       "      <td>0.0</td>\n",
       "      <td>0.0</td>\n",
       "      <td>0.0</td>\n",
       "      <td>0.0</td>\n",
       "      <td>0.0</td>\n",
       "    </tr>\n",
       "    <tr>\n",
       "      <th>8928000</th>\n",
       "      <td>0.0</td>\n",
       "      <td>0.0</td>\n",
       "      <td>0.0</td>\n",
       "      <td>0.0</td>\n",
       "      <td>0.0</td>\n",
       "      <td>0.0</td>\n",
       "      <td>0.0</td>\n",
       "      <td>0.0</td>\n",
       "      <td>0.0</td>\n",
       "      <td>0.0</td>\n",
       "      <td>...</td>\n",
       "      <td>0.0</td>\n",
       "      <td>0.0</td>\n",
       "      <td>0.0</td>\n",
       "      <td>0.0</td>\n",
       "      <td>0.0</td>\n",
       "      <td>0.0</td>\n",
       "      <td>0.0</td>\n",
       "      <td>0.0</td>\n",
       "      <td>0.0</td>\n",
       "      <td>0.0</td>\n",
       "    </tr>\n",
       "    <tr>\n",
       "      <th>8928001</th>\n",
       "      <td>0.0</td>\n",
       "      <td>0.0</td>\n",
       "      <td>0.0</td>\n",
       "      <td>0.0</td>\n",
       "      <td>0.0</td>\n",
       "      <td>0.0</td>\n",
       "      <td>0.0</td>\n",
       "      <td>0.0</td>\n",
       "      <td>0.0</td>\n",
       "      <td>0.0</td>\n",
       "      <td>...</td>\n",
       "      <td>0.0</td>\n",
       "      <td>0.0</td>\n",
       "      <td>0.0</td>\n",
       "      <td>0.0</td>\n",
       "      <td>0.0</td>\n",
       "      <td>0.0</td>\n",
       "      <td>0.0</td>\n",
       "      <td>0.0</td>\n",
       "      <td>0.0</td>\n",
       "      <td>0.0</td>\n",
       "    </tr>\n",
       "  </tbody>\n",
       "</table>\n",
       "<p>8928002 rows × 64 columns</p>\n",
       "</div>"
      ],
      "text/plain": [
       "                     0    1    2    3    4    5                6    7    8  \\\n",
       "0                    1    2    3    4    5    6                7    8    9   \n",
       "1        Grade 2 Astro  GBM  GBM  GBM  GBM  GBM  Grade Unk Oligo  GBM  GBM   \n",
       "2                  0.0  0.0  0.0  0.0  0.0  0.0              0.0  0.0  0.0   \n",
       "3                  0.0  0.0  0.0  0.0  0.0  0.0              0.0  0.0  0.0   \n",
       "4                  0.0  0.0  0.0  0.0  0.0  0.0              0.0  0.0  0.0   \n",
       "...                ...  ...  ...  ...  ...  ...              ...  ...  ...   \n",
       "8927997            0.0  0.0  0.0  0.0  0.0  0.0              0.0  0.0  0.0   \n",
       "8927998            0.0  0.0  0.0  0.0  0.0  0.0              0.0  0.0  0.0   \n",
       "8927999            0.0  0.0  0.0  0.0  0.0  0.0              0.0  0.0  0.0   \n",
       "8928000            0.0  0.0  0.0  0.0  0.0  0.0              0.0  0.0  0.0   \n",
       "8928001            0.0  0.0  0.0  0.0  0.0  0.0              0.0  0.0  0.0   \n",
       "\n",
       "                       0  ...              5    6                    7  \\\n",
       "0                     11  ...             56   57                   58   \n",
       "1        Grade Unk Oligo  ...  Grade 2 Oligo  GBM  Grade 2 Astrocytoma   \n",
       "2                    0.0  ...            0.0  0.0                  0.0   \n",
       "3                    0.0  ...            0.0  0.0                  0.0   \n",
       "4                    0.0  ...            0.0  0.0                  0.0   \n",
       "...                  ...  ...            ...  ...                  ...   \n",
       "8927997              0.0  ...            0.0  0.0                  0.0   \n",
       "8927998              0.0  ...            0.0  0.0                  0.0   \n",
       "8927999              0.0  ...            0.0  0.0                  0.0   \n",
       "8928000              0.0  ...            0.0  0.0                  0.0   \n",
       "8928001              0.0  ...            0.0  0.0                  0.0   \n",
       "\n",
       "                           8                    9                    0  \\\n",
       "0                         59                   60                   61   \n",
       "1        Grade 3 Astrocytoma  Grade 2 Astrocytoma  Grade 2 Astrocytoma   \n",
       "2                        0.0                  0.0                  0.0   \n",
       "3                        0.0                  0.0                  0.0   \n",
       "4                        0.0                  0.0                  0.0   \n",
       "...                      ...                  ...                  ...   \n",
       "8927997                  0.0                  0.0                  0.0   \n",
       "8927998                  0.0                  0.0                  0.0   \n",
       "8927999                  0.0                  0.0                  0.0   \n",
       "8928000                  0.0                  0.0                  0.0   \n",
       "8928001                  0.0                  0.0                  0.0   \n",
       "\n",
       "                           1     2                    3              4  \n",
       "0                         62    63                   64             65  \n",
       "1        Grade 3 Astrocytoma  Test  Grade 2 Astrocytoma  Grade 3 Oligo  \n",
       "2                        0.0   0.0                  0.0            0.0  \n",
       "3                        0.0   0.0                  0.0            0.0  \n",
       "4                        0.0   0.0                  0.0            0.0  \n",
       "...                      ...   ...                  ...            ...  \n",
       "8927997                  0.0   0.0                  0.0            0.0  \n",
       "8927998                  0.0   0.0                  0.0            0.0  \n",
       "8927999                  0.0   0.0                  0.0            0.0  \n",
       "8928000                  0.0   0.0                  0.0            0.0  \n",
       "8928001                  0.0   0.0                  0.0            0.0  \n",
       "\n",
       "[8928002 rows x 64 columns]"
      ]
     },
     "execution_count": 15,
     "metadata": {},
     "output_type": "execute_result"
    }
   ],
   "source": [
    "t1df"
   ]
  },
  {
   "cell_type": "code",
   "execution_count": 16,
   "id": "eb210215",
   "metadata": {},
   "outputs": [],
   "source": [
    "t1df.to_csv('Final t1 Dataframe.csv')"
   ]
  },
  {
   "cell_type": "code",
   "execution_count": 2,
   "id": "1d33c0ff",
   "metadata": {},
   "outputs": [
    {
     "name": "stderr",
     "output_type": "stream",
     "text": [
      "/Users/Max1/opt/anaconda3/lib/python3.8/site-packages/IPython/core/interactiveshell.py:3437: DtypeWarning: Columns (0,1,2,3,4,5) have mixed types.Specify dtype option on import or set low_memory=False.\n",
      "  exec(code_obj, self.user_global_ns, self.user_ns)\n"
     ]
    },
    {
     "name": "stdout",
     "output_type": "stream",
     "text": [
      "1/7\n"
     ]
    },
    {
     "name": "stderr",
     "output_type": "stream",
     "text": [
      "/Users/Max1/opt/anaconda3/lib/python3.8/site-packages/IPython/core/interactiveshell.py:3437: DtypeWarning: Columns (0,1,2,3,4,5,6,7,8,9) have mixed types.Specify dtype option on import or set low_memory=False.\n",
      "  exec(code_obj, self.user_global_ns, self.user_ns)\n"
     ]
    },
    {
     "name": "stdout",
     "output_type": "stream",
     "text": [
      "2/7\n"
     ]
    },
    {
     "name": "stderr",
     "output_type": "stream",
     "text": [
      "/Users/Max1/opt/anaconda3/lib/python3.8/site-packages/IPython/core/interactiveshell.py:3437: DtypeWarning: Columns (0,1,2,3,4,5,6,7,8,9,10) have mixed types.Specify dtype option on import or set low_memory=False.\n",
      "  exec(code_obj, self.user_global_ns, self.user_ns)\n"
     ]
    },
    {
     "name": "stdout",
     "output_type": "stream",
     "text": [
      "3/7\n",
      "4/7\n",
      "5/7\n",
      "6/7\n",
      "7/7\n"
     ]
    }
   ],
   "source": [
    "g = pd.read_csv('/Users/Max1/Desktop/MSDS-498 A.2. and Prep/CSVs 2/Patients 61 to 65 - t1ce.csv')\n",
    "print('1/7')\n",
    "a = pd.read_csv('/Users/Max1/Desktop/MSDS-498 A.2. and Prep/CSVs 2/Patients 1 to 10 - t1ce.csv')\n",
    "print('2/7')\n",
    "b = pd.read_csv('/Users/Max1/Desktop/MSDS-498 A.2. and Prep/CSVs 2/Patients 11 to 20 - t1ce.csv')\n",
    "print('3/7')\n",
    "c = pd.read_csv('/Users/Max1/Desktop/MSDS-498 A.2. and Prep/CSVs 2/Patients 21 to 30 - t1ce.csv')\n",
    "print('4/7')\n",
    "d = pd.read_csv('/Users/Max1/Desktop/MSDS-498 A.2. and Prep/CSVs 2/Patients 31 to 40 - t1ce.csv')\n",
    "print('5/7')\n",
    "e = pd.read_csv('/Users/Max1/Desktop/MSDS-498 A.2. and Prep/CSVs 2/Patients 41 to 50 - t1ce.csv')\n",
    "print('6/7')\n",
    "f = pd.read_csv('/Users/Max1/Desktop/MSDS-498 A.2. and Prep/CSVs 2/Patients 51 to 60 - t1ce.csv')\n",
    "print('7/7')"
   ]
  },
  {
   "cell_type": "code",
   "execution_count": 4,
   "id": "5941623a",
   "metadata": {},
   "outputs": [],
   "source": [
    "t1cedf = pd.concat([a,b,c,d,e,f,g], axis = 1)\n",
    "t1cedf= t1cedf.drop(t1cedf.columns[[10,21,32,43,54,65]], axis = 1)\n",
    "t1cedf.to_csv('Final t1ce Dataframe.csv')"
   ]
  },
  {
   "cell_type": "code",
   "execution_count": 2,
   "id": "88c51d18",
   "metadata": {},
   "outputs": [
    {
     "name": "stderr",
     "output_type": "stream",
     "text": [
      "/Users/Max1/opt/anaconda3/lib/python3.8/site-packages/IPython/core/interactiveshell.py:3437: DtypeWarning: Columns (0,1,2,3,4,5) have mixed types.Specify dtype option on import or set low_memory=False.\n",
      "  exec(code_obj, self.user_global_ns, self.user_ns)\n"
     ]
    },
    {
     "name": "stdout",
     "output_type": "stream",
     "text": [
      "1/7\n"
     ]
    },
    {
     "name": "stderr",
     "output_type": "stream",
     "text": [
      "/Users/Max1/opt/anaconda3/lib/python3.8/site-packages/IPython/core/interactiveshell.py:3437: DtypeWarning: Columns (0,1,2,3,4,5,6,7,8,9) have mixed types.Specify dtype option on import or set low_memory=False.\n",
      "  exec(code_obj, self.user_global_ns, self.user_ns)\n"
     ]
    },
    {
     "name": "stdout",
     "output_type": "stream",
     "text": [
      "2/7\n"
     ]
    },
    {
     "name": "stderr",
     "output_type": "stream",
     "text": [
      "/Users/Max1/opt/anaconda3/lib/python3.8/site-packages/IPython/core/interactiveshell.py:3437: DtypeWarning: Columns (0,1,2,3,4,5,6,7,8,9,10) have mixed types.Specify dtype option on import or set low_memory=False.\n",
      "  exec(code_obj, self.user_global_ns, self.user_ns)\n"
     ]
    },
    {
     "name": "stdout",
     "output_type": "stream",
     "text": [
      "3/7\n",
      "4/7\n",
      "5/7\n",
      "6/7\n",
      "7/7\n"
     ]
    }
   ],
   "source": [
    "g = pd.read_csv('/Users/Max1/Desktop/MSDS-498 A.2. and Prep/CSVs 2/Patients 61 to 65 - t2.csv')\n",
    "print('1/7')\n",
    "a = pd.read_csv('/Users/Max1/Desktop/MSDS-498 A.2. and Prep/CSVs 2/Patients 1 to 10 - t2.csv')\n",
    "print('2/7')\n",
    "b = pd.read_csv('/Users/Max1/Desktop/MSDS-498 A.2. and Prep/CSVs 2/Patients 11 to 20 - t2.csv')\n",
    "print('3/7')\n",
    "c = pd.read_csv('/Users/Max1/Desktop/MSDS-498 A.2. and Prep/CSVs 2/Patients 21 to 30 - t2.csv')\n",
    "print('4/7')\n",
    "d = pd.read_csv('/Users/Max1/Desktop/MSDS-498 A.2. and Prep/CSVs 2/Patients 31 to 40 - t2.csv')\n",
    "print('5/7')\n",
    "e = pd.read_csv('/Users/Max1/Desktop/MSDS-498 A.2. and Prep/CSVs 2/Patients 41 to 50 - t2.csv')\n",
    "print('6/7')\n",
    "f = pd.read_csv('/Users/Max1/Desktop/MSDS-498 A.2. and Prep/CSVs 2/Patients 51 to 60 - t2.csv')\n",
    "print('7/7')"
   ]
  },
  {
   "cell_type": "code",
   "execution_count": 3,
   "id": "616b5029",
   "metadata": {},
   "outputs": [],
   "source": [
    "t2df = pd.concat([a,b,c,d,e,f,g], axis = 1)\n",
    "t2df= t2df.drop(t2df.columns[[10,21,32,43,54,65]], axis = 1)\n",
    "t2df.to_csv('Final t2 Dataframe.csv')"
   ]
  },
  {
   "cell_type": "code",
   "execution_count": 2,
   "id": "76836afe",
   "metadata": {},
   "outputs": [
    {
     "name": "stderr",
     "output_type": "stream",
     "text": [
      "/Users/Max1/opt/anaconda3/lib/python3.8/site-packages/IPython/core/interactiveshell.py:3437: DtypeWarning: Columns (1,2,3,4,5,6,7,8,9,10,11,12,13,14,15,16,17,18,19,20,21,22,23,24,25,26,27,28,29,30,31,32,33,34,35,36,37,38,39,40,41,42,43,44,45,46,47,48,49,50,51,52,53,54,55,56,57,58,59,60,61,62,63,64) have mixed types.Specify dtype option on import or set low_memory=False.\n",
      "  exec(code_obj, self.user_global_ns, self.user_ns)\n"
     ]
    }
   ],
   "source": [
    "#Testing runtime with t1 dataframe\n",
    "t1data = pd.read_csv('/Users/Max1/Desktop/MSDS-498 A.2. and Prep/Final t1 Dataframe.csv')"
   ]
  },
  {
   "cell_type": "code",
   "execution_count": null,
   "id": "ce8ef366",
   "metadata": {},
   "outputs": [],
   "source": [
    "t1data"
   ]
  },
  {
   "cell_type": "code",
   "execution_count": null,
   "id": "f76af1b0",
   "metadata": {},
   "outputs": [],
   "source": []
  }
 ],
 "metadata": {
  "kernelspec": {
   "display_name": "Python 3",
   "language": "python",
   "name": "python3"
  },
  "language_info": {
   "codemirror_mode": {
    "name": "ipython",
    "version": 3
   },
   "file_extension": ".py",
   "mimetype": "text/x-python",
   "name": "python",
   "nbconvert_exporter": "python",
   "pygments_lexer": "ipython3",
   "version": "3.8.8"
  }
 },
 "nbformat": 4,
 "nbformat_minor": 5
}
